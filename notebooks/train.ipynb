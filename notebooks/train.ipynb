{
 "cells": [
  {
   "cell_type": "code",
   "execution_count": null,
   "id": "92b9154d-13d8-4b75-b81a-737787b6041f",
   "metadata": {},
   "outputs": [],
   "source": [
    "import sys\n",
    "sys.path.append('..')\n",
    "\n",
    "import torch\n",
    "import torch.nn as nn\n",
    "import numpy as np\n",
    "import pandas as pd\n",
    "import torch.optim as optim\n",
    "from glob import glob\n",
    "from tqdm import tqdm\n",
    "from torch.utils.tensorboard import SummaryWriter\n",
    "from sklearn.model_selection import train_test_split\n",
    "from nnspike.models import NvidiaModel\n",
    "from nnspike.data import NvidiaDataset\n",
    "from nnspike.constant import ROI_CNN\n",
    "from scripts.tools import view_data_distribution\n",
    "\n",
    "device = torch.device(\"cuda\" if torch.cuda.is_available() else \"cpu\")"
   ]
  },
  {
   "cell_type": "markdown",
   "id": "693bbf00-d294-4b05-b391-dab863dca916",
   "metadata": {},
   "source": [
    "### Load Training Data"
   ]
  },
  {
   "cell_type": "code",
   "execution_count": null,
   "id": "27c15ef3-0dbe-423f-951d-3e5784caecde",
   "metadata": {},
   "outputs": [],
   "source": [
    "label_paths = glob(\"../storage/frames/*.csv\")\n",
    "\n",
    "df = pd.DataFrame()\n",
    "for label_path in label_paths:\n",
    "    label_df = pd.read_csv(label_path)\n",
    "    df = pd.concat([df, label_df])\n",
    "\n",
    "print(f\"Total number of training records: {len(df)}\")"
   ]
  },
  {
   "cell_type": "code",
   "execution_count": null,
   "id": "7b05493a-3858-4169-9f58-bfaab8a22360",
   "metadata": {
    "scrolled": true
   },
   "outputs": [],
   "source": [
    "intervals = [2.3, 3]\n",
    "\n",
    "df = df[df['interval'].isin(intervals) & df['use']==True]\n",
    "df = df.reset_index(drop=True)  # Reset index for future data balancing\n",
    "\n",
    "model_or_opencv = np.where(df['predicted_x'].isna(), df['mx'], df['predicted_x'])\n",
    "df['offset_x'] = np.where(df['adjusted_x'].isna(), model_or_opencv, df['adjusted_x'])\n",
    "\n",
    "print(f\"The total number of samples is {len(df)}\")\n",
    "view_data_distribution(df)"
   ]
  },
  {
   "cell_type": "markdown",
   "id": "9287da59-1a1a-4bf2-9923-8adbca955dd4",
   "metadata": {},
   "source": [
    "### Load to pytorch Dataset"
   ]
  },
  {
   "cell_type": "code",
   "execution_count": null,
   "id": "31d10eb8-aedd-4d49-b652-319ab9b0b8ad",
   "metadata": {},
   "outputs": [],
   "source": [
    "image_paths = df['image_path'].to_list()\n",
    "intervals = df['interval'].to_list()\n",
    "courses = df['course'].to_list()\n",
    "offset_xs = df['offset_x'].to_list()\n",
    "\n",
    "X_all = [[x, y, z] for x, y, z in zip(image_paths, intervals, courses)]\n",
    "y_all = offset_xs"
   ]
  },
  {
   "cell_type": "code",
   "execution_count": null,
   "id": "67e0dfa1-6496-4914-99f3-ca8e455ce045",
   "metadata": {},
   "outputs": [],
   "source": [
    "X_train, X_val, y_train, y_val = train_test_split(X_all, y_all, test_size=0.2, random_state=6)\n",
    "\n",
    "train_set = NvidiaDataset(inputs=X_train, offset_xs=y_train, roi=ROI_CNN, train_course=\"right\")\n",
    "val_set = NvidiaDataset(inputs=X_val, offset_xs=y_val, roi=ROI_CNN, train_course=\"right\")\n",
    "\n",
    "train_loader = torch.utils.data.DataLoader(train_set, batch_size=128, shuffle=True)\n",
    "val_loader = torch.utils.data.DataLoader(val_set, batch_size=64, shuffle=True)"
   ]
  },
  {
   "cell_type": "markdown",
   "id": "c9d086b7-dd60-4db1-a0fb-1745fec6aeb3",
   "metadata": {},
   "source": [
    "### Model, Loss Function, Optimizer Definiation"
   ]
  },
  {
   "cell_type": "code",
   "execution_count": null,
   "id": "e33db036-169f-4889-af74-a4008af3ae98",
   "metadata": {},
   "outputs": [],
   "source": [
    "criterion = nn.MSELoss()\n",
    "model = NvidiaModel()  # or NvidiaModelV2()\n",
    "model.to(device)\n",
    "optimizer = optim.Adam(model.parameters(), lr=1e-3)"
   ]
  },
  {
   "cell_type": "markdown",
   "id": "440d7df1-bbd5-4327-accd-8719cc2ea231",
   "metadata": {},
   "source": [
    "### Training Loop"
   ]
  },
  {
   "cell_type": "code",
   "execution_count": null,
   "id": "73f24944-a874-4e1b-9440-80db50639c7f",
   "metadata": {},
   "outputs": [],
   "source": [
    "# Initialize TensorBoard writer\n",
    "writer = SummaryWriter()\n",
    "\n",
    "# Training loop\n",
    "num_epochs = 50\n",
    "for epoch in range(num_epochs):\n",
    "    model.train()\n",
    "    train_loss = 0.0\n",
    "    \n",
    "    for inputs, labels in tqdm(train_loader, desc=f'Epoch {epoch+1}/{num_epochs}'):\n",
    "        optimizer.zero_grad()\n",
    "        inputs = [input_tensor.to(device) for input_tensor in inputs]\n",
    "        labels = labels.to(device)\n",
    "        outputs = model(inputs[0])  # NvidiaModelV2(): outputs = model(inputs[0], inputs[1])\n",
    "        loss = criterion(outputs, labels)\n",
    "        loss.backward()\n",
    "        optimizer.step()\n",
    "        train_loss += loss.item()\n",
    "\n",
    "    # Calculate average training loss\n",
    "    avg_train_loss = train_loss / len(train_loader)\n",
    "\n",
    "    # Validation\n",
    "    model.eval()\n",
    "    val_loss = 0.0\n",
    "    correct = 0\n",
    "    total = 0\n",
    "    \n",
    "    # Evaluation\n",
    "    for inputs, labels in val_loader:\n",
    "        inputs = [input_tensor.to(device) for input_tensor in inputs]\n",
    "        labels = labels.to(device)\n",
    "        with torch.no_grad():\n",
    "            outputs = model(inputs[0])  # NvidiaModelV2() : outputs = model(inputs[0], inputs[1])\n",
    "        loss = criterion(outputs, labels)\n",
    "        val_loss += loss.item()\n",
    "\n",
    "    # # Calculate average validation loss and accuracy\n",
    "    avg_val_loss = val_loss / len(val_loader)\n",
    "\n",
    "    # Write to TensorBoard\n",
    "    writer.add_scalar('Loss/train', avg_train_loss, epoch)\n",
    "    writer.add_scalar('Loss/val', avg_val_loss, epoch)\n",
    "    \n",
    "    print(f'Epoch {epoch+1}/{num_epochs}, Train Loss: {avg_train_loss:.5f}, Val Loss: {avg_val_loss:.5f}')\n",
    "\n",
    "# Close TensorBoard writer\n",
    "writer.close()"
   ]
  },
  {
   "cell_type": "markdown",
   "id": "a93d39a7-bd72-45e7-9ff5-a213c8343d13",
   "metadata": {},
   "source": [
    "### Save Model"
   ]
  },
  {
   "cell_type": "code",
   "execution_count": null,
   "id": "93b12ebe-590f-46d8-95d8-725e4d7221c2",
   "metadata": {},
   "outputs": [],
   "source": [
    "torch.save(model.state_dict(), \"../storage/models/model_xx.pth\")"
   ]
  }
 ],
 "metadata": {
  "kernelspec": {
   "display_name": "Python 3 (ipykernel)",
   "language": "python",
   "name": "python3"
  },
  "language_info": {
   "codemirror_mode": {
    "name": "ipython",
    "version": 3
   },
   "file_extension": ".py",
   "mimetype": "text/x-python",
   "name": "python",
   "nbconvert_exporter": "python",
   "pygments_lexer": "ipython3",
   "version": "3.11.9"
  }
 },
 "nbformat": 4,
 "nbformat_minor": 5
}
